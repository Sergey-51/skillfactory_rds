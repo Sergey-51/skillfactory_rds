{
 "cells": [
  {
   "cell_type": "code",
   "execution_count": 2,
   "metadata": {},
   "outputs": [],
   "source": [
    "import pandas as pd\n",
    "import numpy as np\n",
    "from datetime import datetime\n",
    "\n",
    "import seaborn as sns"
   ]
  },
  {
   "cell_type": "code",
   "execution_count": 3,
   "metadata": {},
   "outputs": [],
   "source": [
    "pd.set_option('display.max_columns', 50)  # показывать больше столбцов\n",
    "pd.set_option('display.max_rows', 50)     # показывать больше строк\n",
    "\n",
    "# from pylab import rcParams\n",
    "# %config InlineBackend.figure_format = 'svg'\n",
    "# rcParams['figure.figsize'] = 10, 5"
   ]
  },
  {
   "cell_type": "markdown",
   "metadata": {},
   "source": [
    "## Загрузка данных\n",
    "### Описание датасета\n",
    "\n",
    "Задача: оптимизировать полеты зимнего периода 2017 года авиакомпании из города Анапы.\n",
    "\n",
    "Описание датасета:"
   ]
  },
  {
   "cell_type": "code",
   "execution_count": 4,
   "metadata": {},
   "outputs": [
    {
     "data": {
      "text/html": [
       "<div>\n",
       "<style scoped>\n",
       "    .dataframe tbody tr th:only-of-type {\n",
       "        vertical-align: middle;\n",
       "    }\n",
       "\n",
       "    .dataframe tbody tr th {\n",
       "        vertical-align: top;\n",
       "    }\n",
       "\n",
       "    .dataframe thead th {\n",
       "        text-align: right;\n",
       "    }\n",
       "</style>\n",
       "<table border=\"1\" class=\"dataframe\">\n",
       "  <thead>\n",
       "    <tr style=\"text-align: right;\">\n",
       "      <th></th>\n",
       "      <th>flight_id</th>\n",
       "      <th>ID рейса</th>\n",
       "    </tr>\n",
       "  </thead>\n",
       "  <tbody>\n",
       "    <tr>\n",
       "      <th>0</th>\n",
       "      <td>scheduled_departure</td>\n",
       "      <td>запланированная дата и  время вылета</td>\n",
       "    </tr>\n",
       "    <tr>\n",
       "      <th>1</th>\n",
       "      <td>day_part</td>\n",
       "      <td>часть суток (утро/день/вечер/ночь)</td>\n",
       "    </tr>\n",
       "    <tr>\n",
       "      <th>2</th>\n",
       "      <td>flight_departure_ontime</td>\n",
       "      <td>признак вылета рейса по расписанию (\"0\"-воврем...</td>\n",
       "    </tr>\n",
       "    <tr>\n",
       "      <th>3</th>\n",
       "      <td>flight_arrival_ontime</td>\n",
       "      <td>признак прибытия рейса по расписанию (\"0\"-вовр...</td>\n",
       "    </tr>\n",
       "    <tr>\n",
       "      <th>4</th>\n",
       "      <td>airp_departure</td>\n",
       "      <td>аэропорт вылета</td>\n",
       "    </tr>\n",
       "    <tr>\n",
       "      <th>5</th>\n",
       "      <td>airp_arrival</td>\n",
       "      <td>аэропорт прибытия</td>\n",
       "    </tr>\n",
       "    <tr>\n",
       "      <th>6</th>\n",
       "      <td>arrival_airport</td>\n",
       "      <td>код аэропорта прибытия</td>\n",
       "    </tr>\n",
       "    <tr>\n",
       "      <th>7</th>\n",
       "      <td>flight_model</td>\n",
       "      <td>модель самолета</td>\n",
       "    </tr>\n",
       "    <tr>\n",
       "      <th>8</th>\n",
       "      <td>distance_from_anapa</td>\n",
       "      <td>расстояние полета из города Анапа</td>\n",
       "    </tr>\n",
       "    <tr>\n",
       "      <th>9</th>\n",
       "      <td>flying_time_hours</td>\n",
       "      <td>время полета в часах</td>\n",
       "    </tr>\n",
       "    <tr>\n",
       "      <th>10</th>\n",
       "      <td>flight_fuel_cons_cost</td>\n",
       "      <td>стоимость потраченного топлива на рейс</td>\n",
       "    </tr>\n",
       "    <tr>\n",
       "      <th>11</th>\n",
       "      <td>flight_total_cost</td>\n",
       "      <td>общие затраты на рейс (исходил из доли трат на...</td>\n",
       "    </tr>\n",
       "    <tr>\n",
       "      <th>12</th>\n",
       "      <td>profit_simple</td>\n",
       "      <td>прибыль (по формуле сумма продаж минус стоимос...</td>\n",
       "    </tr>\n",
       "    <tr>\n",
       "      <th>13</th>\n",
       "      <td>profit</td>\n",
       "      <td>прибыль (с учетом всех затрат [flight_total_co...</td>\n",
       "    </tr>\n",
       "    <tr>\n",
       "      <th>14</th>\n",
       "      <td>total_seats</td>\n",
       "      <td>общее число мест в самолете</td>\n",
       "    </tr>\n",
       "    <tr>\n",
       "      <th>15</th>\n",
       "      <td>total_sold_tickets</td>\n",
       "      <td>число всех проданных билетов</td>\n",
       "    </tr>\n",
       "    <tr>\n",
       "      <th>16</th>\n",
       "      <td>prc_sold_tickets</td>\n",
       "      <td>процент проданных билетов</td>\n",
       "    </tr>\n",
       "    <tr>\n",
       "      <th>17</th>\n",
       "      <td>total_amount</td>\n",
       "      <td>сумма всех проданных билетов</td>\n",
       "    </tr>\n",
       "    <tr>\n",
       "      <th>18</th>\n",
       "      <td>max_revenue</td>\n",
       "      <td>максимальнао возможная выручка с рейса</td>\n",
       "    </tr>\n",
       "    <tr>\n",
       "      <th>19</th>\n",
       "      <td>lost_revenue</td>\n",
       "      <td>сумма недополученных продаж</td>\n",
       "    </tr>\n",
       "    <tr>\n",
       "      <th>20</th>\n",
       "      <td>b_nmb_total_seats</td>\n",
       "      <td>число мест в бизнес-классе</td>\n",
       "    </tr>\n",
       "    <tr>\n",
       "      <th>21</th>\n",
       "      <td>b_total_sold_tickets</td>\n",
       "      <td>число проданных мест в бизнес-классе</td>\n",
       "    </tr>\n",
       "    <tr>\n",
       "      <th>22</th>\n",
       "      <td>b_prc_sold_tickets</td>\n",
       "      <td>процент проданных билетов в бизнес-классе</td>\n",
       "    </tr>\n",
       "    <tr>\n",
       "      <th>23</th>\n",
       "      <td>b_total_amount</td>\n",
       "      <td>сумма продаж билетов в бизнес-классе</td>\n",
       "    </tr>\n",
       "    <tr>\n",
       "      <th>24</th>\n",
       "      <td>b_avg_amount</td>\n",
       "      <td>стоимость среднего билета в бизнес-классе</td>\n",
       "    </tr>\n",
       "    <tr>\n",
       "      <th>25</th>\n",
       "      <td>b_lost_revenue</td>\n",
       "      <td>сумма недополученных продаж в бизнес-классе</td>\n",
       "    </tr>\n",
       "    <tr>\n",
       "      <th>26</th>\n",
       "      <td>e_nmb_total_seats</td>\n",
       "      <td>число мест в эконом-классе</td>\n",
       "    </tr>\n",
       "    <tr>\n",
       "      <th>27</th>\n",
       "      <td>e_total_sold_tickets</td>\n",
       "      <td>число проданных мест в эконом-классе</td>\n",
       "    </tr>\n",
       "    <tr>\n",
       "      <th>28</th>\n",
       "      <td>e_prc_sold_tickets</td>\n",
       "      <td>процент проданных билетов в эконом-классе</td>\n",
       "    </tr>\n",
       "    <tr>\n",
       "      <th>29</th>\n",
       "      <td>e_total_amount</td>\n",
       "      <td>сумма продаж билетов в эконом-классе</td>\n",
       "    </tr>\n",
       "    <tr>\n",
       "      <th>30</th>\n",
       "      <td>e_avg_amount</td>\n",
       "      <td>стоимость среднего билета в эконом-классе</td>\n",
       "    </tr>\n",
       "    <tr>\n",
       "      <th>31</th>\n",
       "      <td>e_lost_revenue</td>\n",
       "      <td>сумма недополученных продаж в эконом-классе</td>\n",
       "    </tr>\n",
       "  </tbody>\n",
       "</table>\n",
       "</div>"
      ],
      "text/plain": [
       "                  flight_id                                           ID рейса\n",
       "0       scheduled_departure               запланированная дата и  время вылета\n",
       "1                  day_part                 часть суток (утро/день/вечер/ночь)\n",
       "2   flight_departure_ontime  признак вылета рейса по расписанию (\"0\"-воврем...\n",
       "3     flight_arrival_ontime  признак прибытия рейса по расписанию (\"0\"-вовр...\n",
       "4            airp_departure                                    аэропорт вылета\n",
       "5              airp_arrival                                  аэропорт прибытия\n",
       "6           arrival_airport                             код аэропорта прибытия\n",
       "7              flight_model                                    модель самолета\n",
       "8       distance_from_anapa                  расстояние полета из города Анапа\n",
       "9         flying_time_hours                               время полета в часах\n",
       "10    flight_fuel_cons_cost             стоимость потраченного топлива на рейс\n",
       "11        flight_total_cost  общие затраты на рейс (исходил из доли трат на...\n",
       "12            profit_simple  прибыль (по формуле сумма продаж минус стоимос...\n",
       "13                   profit  прибыль (с учетом всех затрат [flight_total_co...\n",
       "14              total_seats                        общее число мест в самолете\n",
       "15       total_sold_tickets                       число всех проданных билетов\n",
       "16         prc_sold_tickets                          процент проданных билетов\n",
       "17             total_amount                       сумма всех проданных билетов\n",
       "18              max_revenue             максимальнао возможная выручка с рейса\n",
       "19             lost_revenue                        сумма недополученных продаж\n",
       "20        b_nmb_total_seats                         число мест в бизнес-классе\n",
       "21     b_total_sold_tickets               число проданных мест в бизнес-классе\n",
       "22       b_prc_sold_tickets          процент проданных билетов в бизнес-классе\n",
       "23           b_total_amount               сумма продаж билетов в бизнес-классе\n",
       "24             b_avg_amount          стоимость среднего билета в бизнес-классе\n",
       "25           b_lost_revenue        сумма недополученных продаж в бизнес-классе\n",
       "26        e_nmb_total_seats                         число мест в эконом-классе\n",
       "27     e_total_sold_tickets               число проданных мест в эконом-классе\n",
       "28       e_prc_sold_tickets          процент проданных билетов в эконом-классе\n",
       "29           e_total_amount               сумма продаж билетов в эконом-классе\n",
       "30             e_avg_amount          стоимость среднего билета в эконом-классе\n",
       "31           e_lost_revenue        сумма недополученных продаж в эконом-классе"
      ]
     },
     "metadata": {},
     "output_type": "display_data"
    }
   ],
   "source": [
    "description = pd.read_excel('dataset-description.xlsx')\n",
    "display(description)"
   ]
  },
  {
   "cell_type": "code",
   "execution_count": 22,
   "metadata": {},
   "outputs": [
    {
     "data": {
      "text/html": [
       "<div>\n",
       "<style scoped>\n",
       "    .dataframe tbody tr th:only-of-type {\n",
       "        vertical-align: middle;\n",
       "    }\n",
       "\n",
       "    .dataframe tbody tr th {\n",
       "        vertical-align: top;\n",
       "    }\n",
       "\n",
       "    .dataframe thead th {\n",
       "        text-align: right;\n",
       "    }\n",
       "</style>\n",
       "<table border=\"1\" class=\"dataframe\">\n",
       "  <thead>\n",
       "    <tr style=\"text-align: right;\">\n",
       "      <th></th>\n",
       "      <th>0</th>\n",
       "      <th>1</th>\n",
       "      <th>2</th>\n",
       "    </tr>\n",
       "  </thead>\n",
       "  <tbody>\n",
       "    <tr>\n",
       "      <th>flight_id</th>\n",
       "      <td>136119</td>\n",
       "      <td>136120</td>\n",
       "      <td>136122</td>\n",
       "    </tr>\n",
       "    <tr>\n",
       "      <th>scheduled_departure</th>\n",
       "      <td>2017-01-03 10:05:00+00:00</td>\n",
       "      <td>2017-02-24 10:05:00+00:00</td>\n",
       "      <td>2017-01-08 10:05:00+00:00</td>\n",
       "    </tr>\n",
       "    <tr>\n",
       "      <th>day_part</th>\n",
       "      <td>morning</td>\n",
       "      <td>morning</td>\n",
       "      <td>morning</td>\n",
       "    </tr>\n",
       "    <tr>\n",
       "      <th>flight_departure_ontime</th>\n",
       "      <td>-1</td>\n",
       "      <td>-1</td>\n",
       "      <td>-1</td>\n",
       "    </tr>\n",
       "    <tr>\n",
       "      <th>flight_arrival_ontime</th>\n",
       "      <td>-1</td>\n",
       "      <td>-1</td>\n",
       "      <td>-1</td>\n",
       "    </tr>\n",
       "    <tr>\n",
       "      <th>airp_departure</th>\n",
       "      <td>Anapa</td>\n",
       "      <td>Anapa</td>\n",
       "      <td>Anapa</td>\n",
       "    </tr>\n",
       "    <tr>\n",
       "      <th>airp_arrival</th>\n",
       "      <td>Moscow</td>\n",
       "      <td>Moscow</td>\n",
       "      <td>Moscow</td>\n",
       "    </tr>\n",
       "    <tr>\n",
       "      <th>arrival_airport</th>\n",
       "      <td>SVO</td>\n",
       "      <td>SVO</td>\n",
       "      <td>SVO</td>\n",
       "    </tr>\n",
       "    <tr>\n",
       "      <th>flight_model</th>\n",
       "      <td>Boeing 737-300</td>\n",
       "      <td>Boeing 737-300</td>\n",
       "      <td>Boeing 737-300</td>\n",
       "    </tr>\n",
       "    <tr>\n",
       "      <th>distance_from_anapa</th>\n",
       "      <td>1220</td>\n",
       "      <td>1220</td>\n",
       "      <td>1220</td>\n",
       "    </tr>\n",
       "    <tr>\n",
       "      <th>flying_time_hours</th>\n",
       "      <td>1.67</td>\n",
       "      <td>1.67</td>\n",
       "      <td>1.67</td>\n",
       "    </tr>\n",
       "    <tr>\n",
       "      <th>flight_fuel_cons_cost</th>\n",
       "      <td>184272</td>\n",
       "      <td>184272</td>\n",
       "      <td>184272</td>\n",
       "    </tr>\n",
       "    <tr>\n",
       "      <th>flight_total_cost</th>\n",
       "      <td>737089</td>\n",
       "      <td>737089</td>\n",
       "      <td>737089</td>\n",
       "    </tr>\n",
       "    <tr>\n",
       "      <th>profit_simple</th>\n",
       "      <td>1.46873e+06</td>\n",
       "      <td>1.42113e+06</td>\n",
       "      <td>1.24673e+06</td>\n",
       "    </tr>\n",
       "    <tr>\n",
       "      <th>profit</th>\n",
       "      <td>915911</td>\n",
       "      <td>868311</td>\n",
       "      <td>693911</td>\n",
       "    </tr>\n",
       "    <tr>\n",
       "      <th>total_seats</th>\n",
       "      <td>130</td>\n",
       "      <td>130</td>\n",
       "      <td>130</td>\n",
       "    </tr>\n",
       "    <tr>\n",
       "      <th>total_sold_tickets</th>\n",
       "      <td>113</td>\n",
       "      <td>109</td>\n",
       "      <td>97</td>\n",
       "    </tr>\n",
       "    <tr>\n",
       "      <th>prc_sold_tickets</th>\n",
       "      <td>86.92</td>\n",
       "      <td>83.85</td>\n",
       "      <td>74.62</td>\n",
       "    </tr>\n",
       "    <tr>\n",
       "      <th>total_amount</th>\n",
       "      <td>1.653e+06</td>\n",
       "      <td>1.6054e+06</td>\n",
       "      <td>1.431e+06</td>\n",
       "    </tr>\n",
       "    <tr>\n",
       "      <th>max_revenue</th>\n",
       "      <td>1.88574e+06</td>\n",
       "      <td>1.88747e+06</td>\n",
       "      <td>1.88368e+06</td>\n",
       "    </tr>\n",
       "    <tr>\n",
       "      <th>lost_revenue</th>\n",
       "      <td>232741</td>\n",
       "      <td>282069</td>\n",
       "      <td>452683</td>\n",
       "    </tr>\n",
       "    <tr>\n",
       "      <th>b_nmb_total_seats</th>\n",
       "      <td>12</td>\n",
       "      <td>12</td>\n",
       "      <td>12</td>\n",
       "    </tr>\n",
       "    <tr>\n",
       "      <th>b_total_sold_tickets</th>\n",
       "      <td>11</td>\n",
       "      <td>11</td>\n",
       "      <td>10</td>\n",
       "    </tr>\n",
       "    <tr>\n",
       "      <th>b_prc_sold_tickets</th>\n",
       "      <td>91.67</td>\n",
       "      <td>91.67</td>\n",
       "      <td>83.33</td>\n",
       "    </tr>\n",
       "    <tr>\n",
       "      <th>b_total_amount</th>\n",
       "      <td>402600</td>\n",
       "      <td>402600</td>\n",
       "      <td>366000</td>\n",
       "    </tr>\n",
       "    <tr>\n",
       "      <th>b_avg_amount</th>\n",
       "      <td>36600</td>\n",
       "      <td>36600</td>\n",
       "      <td>36600</td>\n",
       "    </tr>\n",
       "    <tr>\n",
       "      <th>b_lost_revenue</th>\n",
       "      <td>36600</td>\n",
       "      <td>36600</td>\n",
       "      <td>73200</td>\n",
       "    </tr>\n",
       "    <tr>\n",
       "      <th>e_nmb_total_seats</th>\n",
       "      <td>118</td>\n",
       "      <td>118</td>\n",
       "      <td>118</td>\n",
       "    </tr>\n",
       "    <tr>\n",
       "      <th>e_total_sold_tickets</th>\n",
       "      <td>102</td>\n",
       "      <td>98</td>\n",
       "      <td>87</td>\n",
       "    </tr>\n",
       "    <tr>\n",
       "      <th>e_prc_sold_tickets</th>\n",
       "      <td>86.44</td>\n",
       "      <td>83.05</td>\n",
       "      <td>73.73</td>\n",
       "    </tr>\n",
       "    <tr>\n",
       "      <th>e_total_amount</th>\n",
       "      <td>1.2504e+06</td>\n",
       "      <td>1.2028e+06</td>\n",
       "      <td>1.065e+06</td>\n",
       "    </tr>\n",
       "    <tr>\n",
       "      <th>e_avg_amount</th>\n",
       "      <td>12258.8</td>\n",
       "      <td>12273.5</td>\n",
       "      <td>12241.4</td>\n",
       "    </tr>\n",
       "    <tr>\n",
       "      <th>e_lost_revenue</th>\n",
       "      <td>196141</td>\n",
       "      <td>245469</td>\n",
       "      <td>379483</td>\n",
       "    </tr>\n",
       "  </tbody>\n",
       "</table>\n",
       "</div>"
      ],
      "text/plain": [
       "                                                 0                          1  \\\n",
       "flight_id                                   136119                     136120   \n",
       "scheduled_departure      2017-01-03 10:05:00+00:00  2017-02-24 10:05:00+00:00   \n",
       "day_part                                   morning                    morning   \n",
       "flight_departure_ontime                         -1                         -1   \n",
       "flight_arrival_ontime                           -1                         -1   \n",
       "airp_departure                               Anapa                      Anapa   \n",
       "airp_arrival                                Moscow                     Moscow   \n",
       "arrival_airport                                SVO                        SVO   \n",
       "flight_model                        Boeing 737-300             Boeing 737-300   \n",
       "distance_from_anapa                           1220                       1220   \n",
       "flying_time_hours                             1.67                       1.67   \n",
       "flight_fuel_cons_cost                       184272                     184272   \n",
       "flight_total_cost                           737089                     737089   \n",
       "profit_simple                          1.46873e+06                1.42113e+06   \n",
       "profit                                      915911                     868311   \n",
       "total_seats                                    130                        130   \n",
       "total_sold_tickets                             113                        109   \n",
       "prc_sold_tickets                             86.92                      83.85   \n",
       "total_amount                             1.653e+06                 1.6054e+06   \n",
       "max_revenue                            1.88574e+06                1.88747e+06   \n",
       "lost_revenue                                232741                     282069   \n",
       "b_nmb_total_seats                               12                         12   \n",
       "b_total_sold_tickets                            11                         11   \n",
       "b_prc_sold_tickets                           91.67                      91.67   \n",
       "b_total_amount                              402600                     402600   \n",
       "b_avg_amount                                 36600                      36600   \n",
       "b_lost_revenue                               36600                      36600   \n",
       "e_nmb_total_seats                              118                        118   \n",
       "e_total_sold_tickets                           102                         98   \n",
       "e_prc_sold_tickets                           86.44                      83.05   \n",
       "e_total_amount                          1.2504e+06                 1.2028e+06   \n",
       "e_avg_amount                               12258.8                    12273.5   \n",
       "e_lost_revenue                              196141                     245469   \n",
       "\n",
       "                                                 2  \n",
       "flight_id                                   136122  \n",
       "scheduled_departure      2017-01-08 10:05:00+00:00  \n",
       "day_part                                   morning  \n",
       "flight_departure_ontime                         -1  \n",
       "flight_arrival_ontime                           -1  \n",
       "airp_departure                               Anapa  \n",
       "airp_arrival                                Moscow  \n",
       "arrival_airport                                SVO  \n",
       "flight_model                        Boeing 737-300  \n",
       "distance_from_anapa                           1220  \n",
       "flying_time_hours                             1.67  \n",
       "flight_fuel_cons_cost                       184272  \n",
       "flight_total_cost                           737089  \n",
       "profit_simple                          1.24673e+06  \n",
       "profit                                      693911  \n",
       "total_seats                                    130  \n",
       "total_sold_tickets                              97  \n",
       "prc_sold_tickets                             74.62  \n",
       "total_amount                             1.431e+06  \n",
       "max_revenue                            1.88368e+06  \n",
       "lost_revenue                                452683  \n",
       "b_nmb_total_seats                               12  \n",
       "b_total_sold_tickets                            10  \n",
       "b_prc_sold_tickets                           83.33  \n",
       "b_total_amount                              366000  \n",
       "b_avg_amount                                 36600  \n",
       "b_lost_revenue                               73200  \n",
       "e_nmb_total_seats                              118  \n",
       "e_total_sold_tickets                            87  \n",
       "e_prc_sold_tickets                           73.73  \n",
       "e_total_amount                           1.065e+06  \n",
       "e_avg_amount                               12241.4  \n",
       "e_lost_revenue                              379483  "
      ]
     },
     "execution_count": 22,
     "metadata": {},
     "output_type": "execute_result"
    }
   ],
   "source": [
    "df = pd.read_csv('dataset.csv',index_col=None)\n",
    "\n",
    "# надо преобразовать поле \"scheduled_departure\" в дату\n",
    "df.scheduled_departure.replace(\"T\",\" \").replace(\"Z\",\"\")\n",
    "df['scheduled_departure'] = pd.to_datetime(df['scheduled_departure'],format='%Y-%m-%d %H:%M:%S')\n",
    "\n",
    "# надо также округлить все дробные значения\n",
    "cols=['flying_time_hours', 'flight_fuel_cons_cost', 'flight_total_cost','profit_simple',\n",
    "      'profit','total_seats','total_sold_tickets','prc_sold_tickets','total_amount',\n",
    "      'max_revenue','lost_revenue','b_nmb_total_seats','b_total_sold_tickets',\n",
    "      'b_prc_sold_tickets','b_total_amount','b_avg_amount','b_lost_revenue','e_nmb_total_seats',\n",
    "      'e_total_sold_tickets','e_prc_sold_tickets','e_total_amount','e_avg_amount','e_lost_revenue']\n",
    "df[cols] = df[cols].round(2)\n",
    "\n",
    "\n",
    "df.head(3).T"
   ]
  },
  {
   "cell_type": "code",
   "execution_count": 23,
   "metadata": {},
   "outputs": [
    {
     "name": "stdout",
     "output_type": "stream",
     "text": [
      "<class 'pandas.core.frame.DataFrame'>\n",
      "RangeIndex: 127 entries, 0 to 126\n",
      "Data columns (total 33 columns):\n",
      " #   Column                   Non-Null Count  Dtype              \n",
      "---  ------                   --------------  -----              \n",
      " 0   flight_id                127 non-null    int64              \n",
      " 1   scheduled_departure      127 non-null    datetime64[ns, UTC]\n",
      " 2   day_part                 127 non-null    object             \n",
      " 3   flight_departure_ontime  127 non-null    int64              \n",
      " 4   flight_arrival_ontime    127 non-null    int64              \n",
      " 5   airp_departure           127 non-null    object             \n",
      " 6   airp_arrival             127 non-null    object             \n",
      " 7   arrival_airport          127 non-null    object             \n",
      " 8   flight_model             127 non-null    object             \n",
      " 9   distance_from_anapa      127 non-null    float64            \n",
      " 10  flying_time_hours        127 non-null    float64            \n",
      " 11  flight_fuel_cons_cost    127 non-null    float64            \n",
      " 12  flight_total_cost        127 non-null    float64            \n",
      " 13  profit_simple            118 non-null    float64            \n",
      " 14  profit                   118 non-null    float64            \n",
      " 15  total_seats              118 non-null    float64            \n",
      " 16  total_sold_tickets       118 non-null    float64            \n",
      " 17  prc_sold_tickets         118 non-null    float64            \n",
      " 18  total_amount             118 non-null    float64            \n",
      " 19  max_revenue              118 non-null    float64            \n",
      " 20  lost_revenue             118 non-null    float64            \n",
      " 21  b_nmb_total_seats        118 non-null    float64            \n",
      " 22  b_total_sold_tickets     118 non-null    float64            \n",
      " 23  b_prc_sold_tickets       118 non-null    float64            \n",
      " 24  b_total_amount           118 non-null    float64            \n",
      " 25  b_avg_amount             118 non-null    float64            \n",
      " 26  b_lost_revenue           118 non-null    float64            \n",
      " 27  e_nmb_total_seats        118 non-null    float64            \n",
      " 28  e_total_sold_tickets     118 non-null    float64            \n",
      " 29  e_prc_sold_tickets       118 non-null    float64            \n",
      " 30  e_total_amount           118 non-null    float64            \n",
      " 31  e_avg_amount             118 non-null    float64            \n",
      " 32  e_lost_revenue           118 non-null    float64            \n",
      "dtypes: datetime64[ns, UTC](1), float64(24), int64(3), object(5)\n",
      "memory usage: 32.9+ KB\n"
     ]
    }
   ],
   "source": [
    "df.info()"
   ]
  },
  {
   "cell_type": "code",
   "execution_count": 24,
   "metadata": {},
   "outputs": [
    {
     "data": {
      "text/plain": [
       "NOZ    9\n",
       "Name: arrival_airport, dtype: int64"
      ]
     },
     "execution_count": 24,
     "metadata": {},
     "output_type": "execute_result"
    }
   ],
   "source": [
    "# определим по каким городам у нас пропуски в данных\n",
    "df[df['profit_simple'].isna()==True]['arrival_airport'].value_counts()"
   ]
  },
  {
   "cell_type": "markdown",
   "metadata": {},
   "source": [
    "все пропуски по одному аэропорту Новокузнецк.\n",
    "Посмотрим а сколько в датасэте вообще строк с местом прибытия Новокузнецк"
   ]
  },
  {
   "cell_type": "code",
   "execution_count": 25,
   "metadata": {},
   "outputs": [
    {
     "data": {
      "text/plain": [
       "9"
      ]
     },
     "execution_count": 25,
     "metadata": {},
     "output_type": "execute_result"
    }
   ],
   "source": [
    "df[df['arrival_airport']=='NOZ'].flight_id.count()"
   ]
  },
  {
   "cell_type": "code",
   "execution_count": 26,
   "metadata": {},
   "outputs": [
    {
     "data": {
      "text/plain": [
       "59    136511\n",
       "60    136513\n",
       "61    136514\n",
       "62    136523\n",
       "63    136540\n",
       "64    136544\n",
       "65    136546\n",
       "66    136560\n",
       "67    136567\n",
       "Name: flight_id, dtype: int64"
      ]
     },
     "execution_count": 26,
     "metadata": {},
     "output_type": "execute_result"
    }
   ],
   "source": [
    "df[df['arrival_airport']=='NOZ']['flight_id']"
   ]
  },
  {
   "cell_type": "markdown",
   "metadata": {},
   "source": [
    "Получается, что все записи по Новокузнецку не содержат данных по продажам, есть только те что касаются самого самолета. \n",
    "Это явно какая то ошибка в данных - для дальнейшего анализа исключаю их.  \n",
    "В презентации надо указать, что либо тут потеря данных, либо ошибка ввода данных в БД."
   ]
  },
  {
   "cell_type": "code",
   "execution_count": 27,
   "metadata": {},
   "outputs": [
    {
     "data": {
      "text/plain": [
       "SVO    59\n",
       "EGO    59\n",
       "Name: arrival_airport, dtype: int64"
      ]
     },
     "execution_count": 27,
     "metadata": {},
     "output_type": "execute_result"
    }
   ],
   "source": [
    "df=df[df['arrival_airport']!='NOZ']\n",
    "df['arrival_airport'].value_counts()"
   ]
  },
  {
   "cell_type": "markdown",
   "metadata": {},
   "source": [
    "Удалили Новокузнецк, и как интересно получилось - у нас одинаковое количество рейсов в Москву и Белгород."
   ]
  },
  {
   "cell_type": "code",
   "execution_count": 28,
   "metadata": {},
   "outputs": [
    {
     "data": {
      "text/plain": [
       "470757.13"
      ]
     },
     "execution_count": 28,
     "metadata": {},
     "output_type": "execute_result"
    }
   ],
   "source": [
    "# посмотрим на минимальную сумму прибыли (по полю \"profit_simple\")\n",
    "df.profit_simple.min()"
   ]
  },
  {
   "cell_type": "markdown",
   "metadata": {},
   "source": [
    "Получается, что по минимальной формуле расчета прибыльности (продажа билетов минус затраты только на топливо) все рейсы прибыльные.  \n",
    "Посмотрим, что изменится при расчтете прибыльности исходя из того, что затраты на топливо составляют 25% от всех затрат на рейс.  \n",
    "(по просмотренным годовым отчетам доля авиатоплива находится в диапазоне 15-35%, я для расчетов выбрал 25% [меньший процент будет означать, что общие затраты будут больше])"
   ]
  },
  {
   "cell_type": "code",
   "execution_count": 29,
   "metadata": {},
   "outputs": [
    {
     "data": {
      "text/plain": [
       "290028.51"
      ]
     },
     "execution_count": 29,
     "metadata": {},
     "output_type": "execute_result"
    }
   ],
   "source": [
    "df.profit.min()"
   ]
  },
  {
   "cell_type": "code",
   "execution_count": 30,
   "metadata": {},
   "outputs": [
    {
     "data": {
      "text/plain": [
       "687475.5622033908"
      ]
     },
     "execution_count": 30,
     "metadata": {},
     "output_type": "execute_result"
    }
   ],
   "source": [
    "df.profit.mean()"
   ]
  },
  {
   "cell_type": "code",
   "execution_count": 12,
   "metadata": {},
   "outputs": [
    {
     "data": {
      "text/plain": [
       "arrival_airport\n",
       "EGO    27698382.09\n",
       "SVO    53423734.25\n",
       "Name: profit, dtype: float64"
      ]
     },
     "execution_count": 12,
     "metadata": {},
     "output_type": "execute_result"
    }
   ],
   "source": [
    "# посмотрим по направлениям - какое дало нам меньше прибыли на один рейс\n",
    "df.groupby(['arrival_airport'])['profit'].sum()"
   ]
  },
  {
   "cell_type": "markdown",
   "metadata": {},
   "source": [
    "Получается, что рейсы в Москву прибыльнее почти в два раза. Посмотрим на средний процент заполненности самолета"
   ]
  },
  {
   "cell_type": "code",
   "execution_count": 13,
   "metadata": {},
   "outputs": [
    {
     "data": {
      "text/plain": [
       "arrival_airport\n",
       "EGO    92.975763\n",
       "SVO    87.014915\n",
       "Name: prc_sold_tickets, dtype: float64"
      ]
     },
     "execution_count": 13,
     "metadata": {},
     "output_type": "execute_result"
    }
   ],
   "source": [
    "df.groupby(['arrival_airport'])['prc_sold_tickets'].mean()"
   ]
  },
  {
   "cell_type": "code",
   "execution_count": 14,
   "metadata": {},
   "outputs": [
    {
     "data": {
      "text/plain": [
       "arrival_airport\n",
       "EGO     7876.502203\n",
       "SVO    14521.025085\n",
       "Name: avg_ticket_cost, dtype: float64"
      ]
     },
     "execution_count": 14,
     "metadata": {},
     "output_type": "execute_result"
    }
   ],
   "source": [
    "# Заполненность в МСК ниже чем в Белгород, тут только может влиять стоимость билета. Убедимся в этом.\n",
    "df['avg_ticket_cost']=round(df['total_amount']/df['total_sold_tickets'],2)\n",
    "\n",
    "df.groupby(['arrival_airport'])['avg_ticket_cost'].mean()"
   ]
  },
  {
   "cell_type": "markdown",
   "metadata": {},
   "source": [
    "Так и есть билет в Москву почти в два раза дороже.\n",
    "Посмотрим какие модели самолетов летают в города."
   ]
  },
  {
   "cell_type": "code",
   "execution_count": 15,
   "metadata": {},
   "outputs": [
    {
     "data": {
      "text/plain": [
       "arrival_airport  flight_model         total_seats\n",
       "EGO              Sukhoi Superjet-100  97.0            7876.502203\n",
       "SVO              Boeing 737-300       130.0          14521.025085\n",
       "Name: avg_ticket_cost, dtype: float64"
      ]
     },
     "execution_count": 15,
     "metadata": {},
     "output_type": "execute_result"
    }
   ],
   "source": [
    "df.groupby(['arrival_airport','flight_model','total_seats'])['avg_ticket_cost'].mean()"
   ]
  },
  {
   "cell_type": "code",
   "execution_count": 16,
   "metadata": {},
   "outputs": [],
   "source": [
    "# А если посмотреть на количество мест в самолетах то видим, что в Москву летем ещё и большего размера самолет."
   ]
  },
  {
   "cell_type": "code",
   "execution_count": 17,
   "metadata": {},
   "outputs": [
    {
     "name": "stdout",
     "output_type": "stream",
     "text": [
      "\n",
      "медианные значения показателей по направлениям полетов\n"
     ]
    },
    {
     "data": {
      "text/html": [
       "<div>\n",
       "<style scoped>\n",
       "    .dataframe tbody tr th:only-of-type {\n",
       "        vertical-align: middle;\n",
       "    }\n",
       "\n",
       "    .dataframe tbody tr th {\n",
       "        vertical-align: top;\n",
       "    }\n",
       "\n",
       "    .dataframe thead th {\n",
       "        text-align: right;\n",
       "    }\n",
       "</style>\n",
       "<table border=\"1\" class=\"dataframe\">\n",
       "  <thead>\n",
       "    <tr style=\"text-align: right;\">\n",
       "      <th></th>\n",
       "      <th>prc_sold_tickets</th>\n",
       "      <th>total_sold_tickets</th>\n",
       "      <th>total_seats</th>\n",
       "      <th>profit</th>\n",
       "      <th>flying_time_hours</th>\n",
       "    </tr>\n",
       "    <tr>\n",
       "      <th>arrival_airport</th>\n",
       "      <th></th>\n",
       "      <th></th>\n",
       "      <th></th>\n",
       "      <th></th>\n",
       "      <th></th>\n",
       "    </tr>\n",
       "  </thead>\n",
       "  <tbody>\n",
       "    <tr>\n",
       "      <th>EGO</th>\n",
       "      <td>97.94</td>\n",
       "      <td>95.0</td>\n",
       "      <td>97.0</td>\n",
       "      <td>505428.51</td>\n",
       "      <td>0.83</td>\n",
       "    </tr>\n",
       "    <tr>\n",
       "      <th>SVO</th>\n",
       "      <td>86.15</td>\n",
       "      <td>112.0</td>\n",
       "      <td>130.0</td>\n",
       "      <td>891510.75</td>\n",
       "      <td>1.67</td>\n",
       "    </tr>\n",
       "  </tbody>\n",
       "</table>\n",
       "</div>"
      ],
      "text/plain": [
       "                 prc_sold_tickets  total_sold_tickets  total_seats     profit  \\\n",
       "arrival_airport                                                                 \n",
       "EGO                         97.94                95.0         97.0  505428.51   \n",
       "SVO                         86.15               112.0        130.0  891510.75   \n",
       "\n",
       "                 flying_time_hours  \n",
       "arrival_airport                     \n",
       "EGO                           0.83  \n",
       "SVO                           1.67  "
      ]
     },
     "metadata": {},
     "output_type": "display_data"
    },
    {
     "data": {
      "text/plain": [
       "<seaborn.axisgrid.PairGrid at 0x2996a915b50>"
      ]
     },
     "execution_count": 17,
     "metadata": {},
     "output_type": "execute_result"
    },
    {
     "data": {
      "image/png": "[encoded data removed]",
      "text/plain": [
       "<Figure size 900x900 with 30 Axes>"
      ]
     },
     "metadata": {
      "needs_background": "light"
     },
     "output_type": "display_data"
    }
   ],
   "source": [
    "# посмотрим на графики по основным характеристикам может ещё что увидим\n",
    "dg=pd.DataFrame(df[['prc_sold_tickets','total_sold_tickets','total_seats','profit','flying_time_hours']]\n",
    "                          .groupby(df['arrival_airport']).median())\n",
    "\n",
    "print('\\nмедианные значения показателей по направлениям полетов')\n",
    "display(dg)\n",
    "sns.pairplot(dg, kind = 'reg')"
   ]
  },
  {
   "cell_type": "code",
   "execution_count": 18,
   "metadata": {},
   "outputs": [
    {
     "name": "stdout",
     "output_type": "stream",
     "text": [
      "\n",
      "медианные значения показателей по классам билетов\n"
     ]
    },
    {
     "data": {
      "text/html": [
       "<div>\n",
       "<style scoped>\n",
       "    .dataframe tbody tr th:only-of-type {\n",
       "        vertical-align: middle;\n",
       "    }\n",
       "\n",
       "    .dataframe tbody tr th {\n",
       "        vertical-align: top;\n",
       "    }\n",
       "\n",
       "    .dataframe thead th {\n",
       "        text-align: right;\n",
       "    }\n",
       "</style>\n",
       "<table border=\"1\" class=\"dataframe\">\n",
       "  <thead>\n",
       "    <tr style=\"text-align: right;\">\n",
       "      <th></th>\n",
       "      <th>total_sold_tickets</th>\n",
       "      <th>prc_sold_tickets</th>\n",
       "      <th>b_prc_sold_tickets</th>\n",
       "      <th>e_prc_sold_tickets</th>\n",
       "    </tr>\n",
       "    <tr>\n",
       "      <th>arrival_airport</th>\n",
       "      <th></th>\n",
       "      <th></th>\n",
       "      <th></th>\n",
       "      <th></th>\n",
       "    </tr>\n",
       "  </thead>\n",
       "  <tbody>\n",
       "    <tr>\n",
       "      <th>EGO</th>\n",
       "      <td>95.0</td>\n",
       "      <td>97.94</td>\n",
       "      <td>100.00</td>\n",
       "      <td>97.65</td>\n",
       "    </tr>\n",
       "    <tr>\n",
       "      <th>SVO</th>\n",
       "      <td>112.0</td>\n",
       "      <td>86.15</td>\n",
       "      <td>91.67</td>\n",
       "      <td>86.44</td>\n",
       "    </tr>\n",
       "  </tbody>\n",
       "</table>\n",
       "</div>"
      ],
      "text/plain": [
       "                 total_sold_tickets  prc_sold_tickets  b_prc_sold_tickets  \\\n",
       "arrival_airport                                                             \n",
       "EGO                            95.0             97.94              100.00   \n",
       "SVO                           112.0             86.15               91.67   \n",
       "\n",
       "                 e_prc_sold_tickets  \n",
       "arrival_airport                      \n",
       "EGO                           97.65  \n",
       "SVO                           86.44  "
      ]
     },
     "metadata": {},
     "output_type": "display_data"
    }
   ],
   "source": [
    "# посмотрим на зависимость выкупа билетов в зависимости от класса билета\n",
    "dg2=pd.DataFrame(df[['total_sold_tickets','prc_sold_tickets','b_prc_sold_tickets','e_prc_sold_tickets']]\n",
    "                          .groupby(df['arrival_airport']).median())\n",
    "print('\\nмедианные значения показателей по классам билетов')\n",
    "display(dg2)"
   ]
  },
  {
   "cell_type": "markdown",
   "metadata": {},
   "source": [
    "Получается, что тип класса не влияет на общую доходность рейсов (вернее он одинаково высокий по городам-направлениям и поэтому не даёт нам зависимости). Получается, что вся работа в postgree по выделению этих данных была напрасной (кроме получения опыта в написании запроса), хотя есть и положительная сторона - при получении уточненных данных по затаратам, можно упростить запрос на выгрузку датасета. "
   ]
  },
  {
   "cell_type": "code",
   "execution_count": 19,
   "metadata": {},
   "outputs": [],
   "source": [
    "# еще один апект анализа - по дням неделям рейсов.\n",
    "df['week_day']=df['scheduled_departure'].apply(lambda x: x.weekday())\n",
    "# 0-Пн, 1-Вт, 2-Ср, 3-Чт, 4-Пт, 5-Сб, 6-Вс"
   ]
  },
  {
   "cell_type": "code",
   "execution_count": 20,
   "metadata": {},
   "outputs": [
    {
     "name": "stdout",
     "output_type": "stream",
     "text": [
      "\n",
      "медианные значения показателей по классам билетов\n"
     ]
    },
    {
     "data": {
      "text/html": [
       "<div>\n",
       "<style scoped>\n",
       "    .dataframe tbody tr th:only-of-type {\n",
       "        vertical-align: middle;\n",
       "    }\n",
       "\n",
       "    .dataframe tbody tr th {\n",
       "        vertical-align: top;\n",
       "    }\n",
       "\n",
       "    .dataframe thead th {\n",
       "        text-align: right;\n",
       "    }\n",
       "</style>\n",
       "<table border=\"1\" class=\"dataframe\">\n",
       "  <thead>\n",
       "    <tr style=\"text-align: right;\">\n",
       "      <th></th>\n",
       "      <th></th>\n",
       "      <th>prc_sold_tickets</th>\n",
       "      <th>b_prc_sold_tickets</th>\n",
       "      <th>e_prc_sold_tickets</th>\n",
       "      <th>avg_ticket_cost</th>\n",
       "    </tr>\n",
       "    <tr>\n",
       "      <th>arrival_airport</th>\n",
       "      <th>week_day</th>\n",
       "      <th></th>\n",
       "      <th></th>\n",
       "      <th></th>\n",
       "      <th></th>\n",
       "    </tr>\n",
       "  </thead>\n",
       "  <tbody>\n",
       "    <tr>\n",
       "      <th rowspan=\"7\" valign=\"top\">EGO</th>\n",
       "      <th>0</th>\n",
       "      <td>92.780</td>\n",
       "      <td>100.000</td>\n",
       "      <td>91.760</td>\n",
       "      <td>7889.690</td>\n",
       "    </tr>\n",
       "    <tr>\n",
       "      <th>1</th>\n",
       "      <td>96.910</td>\n",
       "      <td>100.000</td>\n",
       "      <td>96.470</td>\n",
       "      <td>7889.690</td>\n",
       "    </tr>\n",
       "    <tr>\n",
       "      <th>2</th>\n",
       "      <td>98.970</td>\n",
       "      <td>100.000</td>\n",
       "      <td>98.820</td>\n",
       "      <td>7906.250</td>\n",
       "    </tr>\n",
       "    <tr>\n",
       "      <th>3</th>\n",
       "      <td>95.360</td>\n",
       "      <td>100.000</td>\n",
       "      <td>94.705</td>\n",
       "      <td>7889.690</td>\n",
       "    </tr>\n",
       "    <tr>\n",
       "      <th>4</th>\n",
       "      <td>94.845</td>\n",
       "      <td>95.835</td>\n",
       "      <td>94.705</td>\n",
       "      <td>7889.690</td>\n",
       "    </tr>\n",
       "    <tr>\n",
       "      <th>5</th>\n",
       "      <td>97.940</td>\n",
       "      <td>95.835</td>\n",
       "      <td>98.235</td>\n",
       "      <td>7889.690</td>\n",
       "    </tr>\n",
       "    <tr>\n",
       "      <th>6</th>\n",
       "      <td>90.720</td>\n",
       "      <td>91.670</td>\n",
       "      <td>90.590</td>\n",
       "      <td>7902.270</td>\n",
       "    </tr>\n",
       "    <tr>\n",
       "      <th rowspan=\"7\" valign=\"top\">SVO</th>\n",
       "      <th>0</th>\n",
       "      <td>83.080</td>\n",
       "      <td>83.330</td>\n",
       "      <td>83.050</td>\n",
       "      <td>14507.690</td>\n",
       "    </tr>\n",
       "    <tr>\n",
       "      <th>1</th>\n",
       "      <td>90.770</td>\n",
       "      <td>91.670</td>\n",
       "      <td>91.530</td>\n",
       "      <td>14336.750</td>\n",
       "    </tr>\n",
       "    <tr>\n",
       "      <th>2</th>\n",
       "      <td>86.540</td>\n",
       "      <td>91.670</td>\n",
       "      <td>86.440</td>\n",
       "      <td>14561.050</td>\n",
       "    </tr>\n",
       "    <tr>\n",
       "      <th>3</th>\n",
       "      <td>86.155</td>\n",
       "      <td>91.670</td>\n",
       "      <td>86.865</td>\n",
       "      <td>14592.665</td>\n",
       "    </tr>\n",
       "    <tr>\n",
       "      <th>4</th>\n",
       "      <td>89.230</td>\n",
       "      <td>91.670</td>\n",
       "      <td>88.985</td>\n",
       "      <td>14629.510</td>\n",
       "    </tr>\n",
       "    <tr>\n",
       "      <th>5</th>\n",
       "      <td>88.845</td>\n",
       "      <td>91.670</td>\n",
       "      <td>88.560</td>\n",
       "      <td>14586.190</td>\n",
       "    </tr>\n",
       "    <tr>\n",
       "      <th>6</th>\n",
       "      <td>80.770</td>\n",
       "      <td>91.670</td>\n",
       "      <td>79.660</td>\n",
       "      <td>14705.450</td>\n",
       "    </tr>\n",
       "  </tbody>\n",
       "</table>\n",
       "</div>"
      ],
      "text/plain": [
       "                          prc_sold_tickets  b_prc_sold_tickets  \\\n",
       "arrival_airport week_day                                         \n",
       "EGO             0                   92.780             100.000   \n",
       "                1                   96.910             100.000   \n",
       "                2                   98.970             100.000   \n",
       "                3                   95.360             100.000   \n",
       "                4                   94.845              95.835   \n",
       "                5                   97.940              95.835   \n",
       "                6                   90.720              91.670   \n",
       "SVO             0                   83.080              83.330   \n",
       "                1                   90.770              91.670   \n",
       "                2                   86.540              91.670   \n",
       "                3                   86.155              91.670   \n",
       "                4                   89.230              91.670   \n",
       "                5                   88.845              91.670   \n",
       "                6                   80.770              91.670   \n",
       "\n",
       "                          e_prc_sold_tickets  avg_ticket_cost  \n",
       "arrival_airport week_day                                       \n",
       "EGO             0                     91.760         7889.690  \n",
       "                1                     96.470         7889.690  \n",
       "                2                     98.820         7906.250  \n",
       "                3                     94.705         7889.690  \n",
       "                4                     94.705         7889.690  \n",
       "                5                     98.235         7889.690  \n",
       "                6                     90.590         7902.270  \n",
       "SVO             0                     83.050        14507.690  \n",
       "                1                     91.530        14336.750  \n",
       "                2                     86.440        14561.050  \n",
       "                3                     86.865        14592.665  \n",
       "                4                     88.985        14629.510  \n",
       "                5                     88.560        14586.190  \n",
       "                6                     79.660        14705.450  "
      ]
     },
     "metadata": {},
     "output_type": "display_data"
    }
   ],
   "source": [
    "# посмотрим на зависимость покупки билетов в зависимости от дня недели\n",
    "\n",
    "dg3=df.groupby(['arrival_airport','week_day']).median()\n",
    "dg3=dg3[['prc_sold_tickets','b_prc_sold_tickets','e_prc_sold_tickets','avg_ticket_cost']]\n",
    "# dg3=pd.DataFrame(df[['total_sold_tickets','prc_sold_tickets','b_prc_sold_tickets','e_prc_sold_tickets']]\n",
    "#                           .groupby(['arrival_airport','week_day']).median())\n",
    "print('\\nмедианные значения показателей по классам билетов')\n",
    "display(dg3)"
   ]
  },
  {
   "cell_type": "markdown",
   "metadata": {},
   "source": [
    "Из данных следует, что на обоих направлениях пассажиры не любят летать в воскресенье и понедельник.  \n",
    "Следует подумать о возможных скидках или \"плюшках\" для пассажиров в эти дни.  \n",
    "Особенно в воскресенье, тк именно в этот день максимальна для Москвы и практически максимальна для Белгорода."
   ]
  },
  {
   "cell_type": "code",
   "execution_count": 21,
   "metadata": {},
   "outputs": [
    {
     "name": "stdout",
     "output_type": "stream",
     "text": [
      "\n",
      "медианные значения показателей по своевременному полету\n"
     ]
    },
    {
     "data": {
      "text/html": [
       "<div>\n",
       "<style scoped>\n",
       "    .dataframe tbody tr th:only-of-type {\n",
       "        vertical-align: middle;\n",
       "    }\n",
       "\n",
       "    .dataframe tbody tr th {\n",
       "        vertical-align: top;\n",
       "    }\n",
       "\n",
       "    .dataframe thead th {\n",
       "        text-align: right;\n",
       "    }\n",
       "</style>\n",
       "<table border=\"1\" class=\"dataframe\">\n",
       "  <thead>\n",
       "    <tr style=\"text-align: right;\">\n",
       "      <th></th>\n",
       "      <th></th>\n",
       "      <th>flight_departure_ontime</th>\n",
       "      <th>flight_arrival_ontime</th>\n",
       "    </tr>\n",
       "    <tr>\n",
       "      <th>arrival_airport</th>\n",
       "      <th>week_day</th>\n",
       "      <th></th>\n",
       "      <th></th>\n",
       "    </tr>\n",
       "  </thead>\n",
       "  <tbody>\n",
       "    <tr>\n",
       "      <th rowspan=\"7\" valign=\"top\">EGO</th>\n",
       "      <th>0</th>\n",
       "      <td>-1.000000</td>\n",
       "      <td>-0.888889</td>\n",
       "    </tr>\n",
       "    <tr>\n",
       "      <th>1</th>\n",
       "      <td>-0.888889</td>\n",
       "      <td>-1.000000</td>\n",
       "    </tr>\n",
       "    <tr>\n",
       "      <th>2</th>\n",
       "      <td>-0.875000</td>\n",
       "      <td>-0.875000</td>\n",
       "    </tr>\n",
       "    <tr>\n",
       "      <th>3</th>\n",
       "      <td>-1.000000</td>\n",
       "      <td>-0.875000</td>\n",
       "    </tr>\n",
       "    <tr>\n",
       "      <th>4</th>\n",
       "      <td>-1.000000</td>\n",
       "      <td>-1.000000</td>\n",
       "    </tr>\n",
       "    <tr>\n",
       "      <th>5</th>\n",
       "      <td>-1.000000</td>\n",
       "      <td>-1.000000</td>\n",
       "    </tr>\n",
       "    <tr>\n",
       "      <th>6</th>\n",
       "      <td>-1.000000</td>\n",
       "      <td>-1.000000</td>\n",
       "    </tr>\n",
       "    <tr>\n",
       "      <th rowspan=\"7\" valign=\"top\">SVO</th>\n",
       "      <th>0</th>\n",
       "      <td>-1.000000</td>\n",
       "      <td>-1.000000</td>\n",
       "    </tr>\n",
       "    <tr>\n",
       "      <th>1</th>\n",
       "      <td>-0.888889</td>\n",
       "      <td>-0.777778</td>\n",
       "    </tr>\n",
       "    <tr>\n",
       "      <th>2</th>\n",
       "      <td>-1.000000</td>\n",
       "      <td>-0.875000</td>\n",
       "    </tr>\n",
       "    <tr>\n",
       "      <th>3</th>\n",
       "      <td>-1.000000</td>\n",
       "      <td>-1.000000</td>\n",
       "    </tr>\n",
       "    <tr>\n",
       "      <th>4</th>\n",
       "      <td>-0.875000</td>\n",
       "      <td>-0.750000</td>\n",
       "    </tr>\n",
       "    <tr>\n",
       "      <th>5</th>\n",
       "      <td>-1.000000</td>\n",
       "      <td>-1.000000</td>\n",
       "    </tr>\n",
       "    <tr>\n",
       "      <th>6</th>\n",
       "      <td>-0.777778</td>\n",
       "      <td>-0.666667</td>\n",
       "    </tr>\n",
       "  </tbody>\n",
       "</table>\n",
       "</div>"
      ],
      "text/plain": [
       "                          flight_departure_ontime  flight_arrival_ontime\n",
       "arrival_airport week_day                                                \n",
       "EGO             0                       -1.000000              -0.888889\n",
       "                1                       -0.888889              -1.000000\n",
       "                2                       -0.875000              -0.875000\n",
       "                3                       -1.000000              -0.875000\n",
       "                4                       -1.000000              -1.000000\n",
       "                5                       -1.000000              -1.000000\n",
       "                6                       -1.000000              -1.000000\n",
       "SVO             0                       -1.000000              -1.000000\n",
       "                1                       -0.888889              -0.777778\n",
       "                2                       -1.000000              -0.875000\n",
       "                3                       -1.000000              -1.000000\n",
       "                4                       -0.875000              -0.750000\n",
       "                5                       -1.000000              -1.000000\n",
       "                6                       -0.777778              -0.666667"
      ]
     },
     "metadata": {},
     "output_type": "display_data"
    }
   ],
   "source": [
    "# посмотрим на зависимость выкупа билетов в зависимости от полетов по расписанию\n",
    "\n",
    "dg4=df.groupby(['arrival_airport','week_day']).mean()\n",
    "dg4=dg4[['flight_departure_ontime','flight_arrival_ontime']]\n",
    "# dg3=pd.DataFrame(df[['total_sold_tickets','prc_sold_tickets','b_prc_sold_tickets','e_prc_sold_tickets']]\n",
    "#                           .groupby(['arrival_airport','week_day']).median())\n",
    "print('\\nмедианные значения показателей по своевременному полету')\n",
    "display(dg4)"
   ]
  },
  {
   "cell_type": "markdown",
   "metadata": {},
   "source": [
    "Из этих данных также следует, что рейсы в среднем и вылетают и прилетают раньше расписания.  \n",
    "Следовательно, они нам не дают дополнительной информации и эти признаки также можно будет исключить на следующем этапе анализа."
   ]
  },
  {
   "cell_type": "markdown",
   "metadata": {},
   "source": [
    "# --------------------------------------------------------------------------------------"
   ]
  },
  {
   "cell_type": "markdown",
   "metadata": {},
   "source": [
    "Получается, что рейсы в МСК выгоднее для авиакомпании, и поскольку убыточных нет  \n",
    "то и закрывать какие-либо рейсы я считаю нецелесообразным на данном уровне анализа.  \n",
    "\n",
    "**Для полноценного анализа необходимо сделать следующее:**\n",
    "1. Понять причины отсутствия данных по рейсам в Новокузнецк (и вернуть их с полными данными при необходимости)\n",
    "2. Получить истинные данные по затратам на рейс\n",
    "3. Кроме затрат на рейсы у авиакомпании есть затраты на офисы продаж и сам центральный офис - необходимо корректно добавить эти данные в расчеты\n",
    "4. У авиакомпании помимо прямых доходов с продаж билетов есть еще и дополнительные источники доходов. Например, оплата багажа по перевесу или негабаритных размеров, продажа еды, напитков и вещей в салоне самолета, или оказание попутных логистических услуг по перевозке грузов.\n",
    "5. Сам по себе анализ полетов только в одну сторону очень странный, так как самолеты обычно летают по рейсам в обе стороны. Поэтому считаю необходимым добавить в анализ еще и обратные рейсы."
   ]
  }
 ],
 "metadata": {
  "kernelspec": {
   "display_name": "Python 3",
   "language": "python",
   "name": "python3"
  },
  "language_info": {
   "codemirror_mode": {
    "name": "ipython",
    "version": 3
   },
   "file_extension": ".py",
   "mimetype": "text/x-python",
   "name": "python",
   "nbconvert_exporter": "python",
   "pygments_lexer": "ipython3",
   "version": "3.8.5"
  }
 },
 "nbformat": 4,
 "nbformat_minor": 4
}
